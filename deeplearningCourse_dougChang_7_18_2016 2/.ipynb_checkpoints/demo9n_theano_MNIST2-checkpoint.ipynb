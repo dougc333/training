{
 "metadata": {
  "name": ""
 },
 "nbformat": 3,
 "nbformat_minor": 0,
 "worksheets": [
  {
   "cells": [
    {
     "cell_type": "code",
     "collapsed": false,
     "input": [
      "import theano\n",
      "from theano import tensor as T\n",
      "import numpy as np\n",
      "from time import time\n",
      "\n",
      "import cPickle, gzip\n",
      "#!wget http://deeplearning.net/data/mnist/mnist.pkl.gz\n",
      "# Load the dataset\n",
      "train, valid, test = cPickle.load(gzip.open('mnist.pkl.gz','rb'))\n",
      "\n",
      "def add_bias(X):\n",
      "    return np.hstack((np.ones((X.shape[0],1)),X))\n",
      "\n",
      "def one_hot(y):\n",
      "    if y.ndim == 1:\n",
      "        y = y.reshape((-1,1))    \n",
      "    return (y == np.unique(y)).astype(int)\n",
      "\n",
      "X_train = add_bias(train[0])\n",
      "y_train = one_hot(train[1])\n",
      "\n",
      "N,D = X_train.shape\n",
      "K   = len(np.unique(train[1]))\n",
      "print N,D,K      \n",
      "\n",
      "X_test = add_bias(test[0])\n",
      "y_test = one_hot(test[1])\n",
      "\n",
      "#w1 = np.random.uniform(-0.01,0.01,size=(D+1,H))   # init weights\n",
      "\n",
      "def init_weights(shape):\n",
      "    return theano.shared( np.random.uniform(-0.01,0.01,size=shape) )\n",
      "\n",
      "def sgd(loss, params, step=1):\n",
      "    grads = T.grad(loss,params)\n",
      "    updates = []\n",
      "    for param, grad in zip(params, grads):\n",
      "        updates.append([param, param - step*grad])\n",
      "    return updates\n",
      "\n",
      "def model(X, w1, w2):\n",
      "    h = T.nnet.sigmoid(T.dot(X, w1))\n",
      "    yHat = T.nnet.softmax(T.dot(h, w2))\n",
      "    return yHat\n",
      "\n",
      "start_time = time()\n",
      "\n",
      "X = T.fmatrix()\n",
      "Y = T.fmatrix()\n",
      "\n",
      "H = 50\n",
      "\n",
      "w1 = init_weights((D, H))\n",
      "w2 = init_weights((H, K))\n",
      "\n",
      "yHat     = model(X, w1, w2)\n",
      "yPredict = T.argmax(yHat, axis=1)\n",
      "\n",
      "loss = -T.mean(Y * T.log(yHat)) \n",
      "#loss = T.mean(T.nnet.categorical_crossentropy(yHat, Y))\n",
      "params = [w1, w2]\n",
      "updates = sgd(loss, params,10)\n",
      "\n",
      "train   = theano.function(inputs=[X, Y], outputs=loss, updates=updates, allow_input_downcast=True)\n",
      "predict = theano.function(inputs=[X], outputs=yPredict, allow_input_downcast=True)\n",
      "\n",
      "MAX_ITERS = 200\n",
      "PRINT_ITERS=10\n",
      "for iters in range(MAX_ITERS):\n",
      "    loss1 = train(X_train, y_train)\n",
      "    if ( (iters%PRINT_ITERS)==0):\n",
      "        print iters,\"Loss: \",loss1, \\\n",
      "               \"Train accuracy: \",np.mean(np.argmax(y_train, axis=1) == predict(X_train)), \\\n",
      "               \", Test accuracy: \" ,np.mean(np.argmax(y_test,  axis=1) == predict(X_test))\n",
      "\n",
      "print\n",
      "print \"Final training accuracy: %0.4f\"%mean(predict(X_train)== np.argmax(y_train, axis=1))\n",
      "print \"Final test accuracy    : %0.4f\"%mean(predict(X_test)== np.argmax(y_test, axis=1))\n",
      "print\n",
      "elapsed = time() - start_time\n",
      "print \"%0.2f secs, \" % (elapsed), '{0:.2f}'.format(elapsed/float(iters)), \"secs/iter\""
     ],
     "language": "python",
     "metadata": {},
     "outputs": [
      {
       "output_type": "stream",
       "stream": "stdout",
       "text": [
        "50000 785 10\n",
        "0"
       ]
      },
      {
       "output_type": "stream",
       "stream": "stdout",
       "text": [
        " Loss:  0.230257486099 Train accuracy:  "
       ]
      },
      {
       "output_type": "stream",
       "stream": "stdout",
       "text": [
        "0.11356 , Test accuracy:  "
       ]
      },
      {
       "output_type": "stream",
       "stream": "stdout",
       "text": [
        "0.1135\n",
        "10"
       ]
      },
      {
       "output_type": "stream",
       "stream": "stdout",
       "text": [
        " Loss:  0.22966669186 Train accuracy:  "
       ]
      },
      {
       "output_type": "stream",
       "stream": "stdout",
       "text": [
        "0.11356 , Test accuracy:  "
       ]
      },
      {
       "output_type": "stream",
       "stream": "stdout",
       "text": [
        "0.1135\n",
        "20"
       ]
      },
      {
       "output_type": "stream",
       "stream": "stdout",
       "text": [
        " Loss:  0.226166973593 Train accuracy:  "
       ]
      },
      {
       "output_type": "stream",
       "stream": "stdout",
       "text": [
        "0.20518 , Test accuracy:  "
       ]
      },
      {
       "output_type": "stream",
       "stream": "stdout",
       "text": [
        "0.205\n",
        "30"
       ]
      },
      {
       "output_type": "stream",
       "stream": "stdout",
       "text": [
        " Loss:  0.203514647796 Train accuracy:  "
       ]
      },
      {
       "output_type": "stream",
       "stream": "stdout",
       "text": [
        "0.43754 , Test accuracy:  "
       ]
      },
      {
       "output_type": "stream",
       "stream": "stdout",
       "text": [
        "0.4374\n",
        "40"
       ]
      },
      {
       "output_type": "stream",
       "stream": "stdout",
       "text": [
        " Loss:  0.156984764807 Train accuracy:  "
       ]
      },
      {
       "output_type": "stream",
       "stream": "stdout",
       "text": [
        "0.57232 , Test accuracy:  "
       ]
      },
      {
       "output_type": "stream",
       "stream": "stdout",
       "text": [
        "0.5812\n",
        "50"
       ]
      },
      {
       "output_type": "stream",
       "stream": "stdout",
       "text": [
        " Loss:  0.12138963663 Train accuracy:  "
       ]
      },
      {
       "output_type": "stream",
       "stream": "stdout",
       "text": [
        "0.67398 , Test accuracy:  "
       ]
      },
      {
       "output_type": "stream",
       "stream": "stdout",
       "text": [
        "0.6829\n",
        "60"
       ]
      },
      {
       "output_type": "stream",
       "stream": "stdout",
       "text": [
        " Loss:  0.0992679514057 Train accuracy:  "
       ]
      },
      {
       "output_type": "stream",
       "stream": "stdout",
       "text": [
        "0.74776 , Test accuracy:  "
       ]
      },
      {
       "output_type": "stream",
       "stream": "stdout",
       "text": [
        "0.7582\n",
        "70"
       ]
      },
      {
       "output_type": "stream",
       "stream": "stdout",
       "text": [
        " Loss:  0.0839013311058 Train accuracy:  "
       ]
      },
      {
       "output_type": "stream",
       "stream": "stdout",
       "text": [
        "0.79184 , Test accuracy:  "
       ]
      },
      {
       "output_type": "stream",
       "stream": "stdout",
       "text": [
        "0.7973\n",
        "80"
       ]
      },
      {
       "output_type": "stream",
       "stream": "stdout",
       "text": [
        " Loss:  0.0728574996356 Train accuracy:  "
       ]
      },
      {
       "output_type": "stream",
       "stream": "stdout",
       "text": [
        "0.81846 , Test accuracy:  "
       ]
      },
      {
       "output_type": "stream",
       "stream": "stdout",
       "text": [
        "0.8221\n",
        "90"
       ]
      },
      {
       "output_type": "stream",
       "stream": "stdout",
       "text": [
        " Loss:  0.0648697753617 Train accuracy:  "
       ]
      },
      {
       "output_type": "stream",
       "stream": "stdout",
       "text": [
        "0.8356 , Test accuracy:  "
       ]
      },
      {
       "output_type": "stream",
       "stream": "stdout",
       "text": [
        "0.8411\n",
        "100"
       ]
      },
      {
       "output_type": "stream",
       "stream": "stdout",
       "text": [
        " Loss:  0.0589446503794 Train accuracy:  "
       ]
      },
      {
       "output_type": "stream",
       "stream": "stdout",
       "text": [
        "0.84908 , Test accuracy:  "
       ]
      },
      {
       "output_type": "stream",
       "stream": "stdout",
       "text": [
        "0.8551\n",
        "110"
       ]
      },
      {
       "output_type": "stream",
       "stream": "stdout",
       "text": [
        " Loss:  0.0543912199603 Train accuracy:  "
       ]
      },
      {
       "output_type": "stream",
       "stream": "stdout",
       "text": [
        "0.8598 , Test accuracy:  "
       ]
      },
      {
       "output_type": "stream",
       "stream": "stdout",
       "text": [
        "0.8688\n",
        "120"
       ]
      },
      {
       "output_type": "stream",
       "stream": "stdout",
       "text": [
        " Loss:  0.0507772042811 Train accuracy:  "
       ]
      },
      {
       "output_type": "stream",
       "stream": "stdout",
       "text": [
        "0.86862 , Test accuracy:  "
       ]
      },
      {
       "output_type": "stream",
       "stream": "stdout",
       "text": [
        "0.8755\n",
        "130"
       ]
      },
      {
       "output_type": "stream",
       "stream": "stdout",
       "text": [
        " Loss:  0.047839755625 Train accuracy:  "
       ]
      },
      {
       "output_type": "stream",
       "stream": "stdout",
       "text": [
        "0.876 , Test accuracy:  "
       ]
      },
      {
       "output_type": "stream",
       "stream": "stdout",
       "text": [
        "0.8814\n",
        "140"
       ]
      },
      {
       "output_type": "stream",
       "stream": "stdout",
       "text": [
        " Loss:  0.0454131927306 Train accuracy:  "
       ]
      },
      {
       "output_type": "stream",
       "stream": "stdout",
       "text": [
        "0.88184 , Test accuracy:  "
       ]
      },
      {
       "output_type": "stream",
       "stream": "stdout",
       "text": [
        "0.8879\n",
        "150"
       ]
      },
      {
       "output_type": "stream",
       "stream": "stdout",
       "text": [
        " Loss:  0.0433851390291 Train accuracy:  "
       ]
      },
      {
       "output_type": "stream",
       "stream": "stdout",
       "text": [
        "0.8868 , Test accuracy:  "
       ]
      },
      {
       "output_type": "stream",
       "stream": "stdout",
       "text": [
        "0.8918\n",
        "160"
       ]
      },
      {
       "output_type": "stream",
       "stream": "stdout",
       "text": [
        " Loss:  0.0416734590417 Train accuracy:  "
       ]
      },
      {
       "output_type": "stream",
       "stream": "stdout",
       "text": [
        "0.89024 , Test accuracy:  "
       ]
      },
      {
       "output_type": "stream",
       "stream": "stdout",
       "text": [
        "0.8951\n",
        "170"
       ]
      },
      {
       "output_type": "stream",
       "stream": "stdout",
       "text": [
        " Loss:  0.0402150175577 Train accuracy:  "
       ]
      },
      {
       "output_type": "stream",
       "stream": "stdout",
       "text": [
        "0.89352 , Test accuracy:  "
       ]
      },
      {
       "output_type": "stream",
       "stream": "stdout",
       "text": [
        "0.8979\n",
        "180"
       ]
      },
      {
       "output_type": "stream",
       "stream": "stdout",
       "text": [
        " Loss:  0.0389601471989 Train accuracy:  "
       ]
      },
      {
       "output_type": "stream",
       "stream": "stdout",
       "text": [
        "0.8958 , Test accuracy:  "
       ]
      },
      {
       "output_type": "stream",
       "stream": "stdout",
       "text": [
        "0.9007\n",
        "190"
       ]
      },
      {
       "output_type": "stream",
       "stream": "stdout",
       "text": [
        " Loss:  0.0378695368992 Train accuracy:  "
       ]
      },
      {
       "output_type": "stream",
       "stream": "stdout",
       "text": [
        "0.89776 , Test accuracy:  "
       ]
      },
      {
       "output_type": "stream",
       "stream": "stdout",
       "text": [
        "0.9033\n",
        "\n"
       ]
      },
      {
       "output_type": "stream",
       "stream": "stdout",
       "text": [
        "Final training accuracy: 0.8997\n",
        "Final test accuracy    : 0.9049"
       ]
      },
      {
       "output_type": "stream",
       "stream": "stdout",
       "text": [
        "\n",
        "\n",
        "170.71 secs,  0.86 secs/iter\n"
       ]
      }
     ],
     "prompt_number": 1
    },
    {
     "cell_type": "code",
     "collapsed": false,
     "input": [
      "print T.log(e).eval(),np.log(e)"
     ],
     "language": "python",
     "metadata": {},
     "outputs": [
      {
       "output_type": "stream",
       "stream": "stdout",
       "text": [
        "1.0 1.0\n"
       ]
      }
     ],
     "prompt_number": 9
    },
    {
     "cell_type": "code",
     "collapsed": false,
     "input": [
      "def logistic(t):\n",
      "    idx = t > 0\n",
      "    out = np.copy(t)\n",
      "    out[idx] = 1. / (1 + np.exp(-t[idx]))\n",
      "    exp_t = np.exp(t[~idx])\n",
      "    out[~idx] = exp_t / (1. + exp_t)\n",
      "    return out\n",
      "\n",
      "def softmax(x):\n",
      "    if (len(x.shape)==1):\n",
      "        x=x.reshape(1,-1)\n",
      "    x -= np.max(x,axis=1).reshape(-1,1) \n",
      "    expX=np.exp(x)\n",
      "    return expX/np.sum(expX,axis=1).reshape((-1,1))\n"
     ],
     "language": "python",
     "metadata": {},
     "outputs": [],
     "prompt_number": 10
    },
    {
     "cell_type": "code",
     "collapsed": false,
     "input": [
      "print T.nnet.sigmoid(2).eval()\n",
      "print logistic(np.array([2.0]))"
     ],
     "language": "python",
     "metadata": {},
     "outputs": [
      {
       "output_type": "stream",
       "stream": "stdout",
       "text": [
        "0.880797088146\n",
        "5.61827770977\n"
       ]
      }
     ],
     "prompt_number": 2
    },
    {
     "cell_type": "code",
     "collapsed": false,
     "input": [
      "print softmax(np.array([1,2,3.0]))\n",
      "print  T.nnet.softmax(np.array([1,2,3.0])).eval()"
     ],
     "language": "python",
     "metadata": {},
     "outputs": [
      {
       "output_type": "stream",
       "stream": "stdout",
       "text": [
        "[[ 0.09003057  0.24472847  0.66524096]]\n",
        "[[ 0.09003057  0.24472847  0.66524096]]"
       ]
      },
      {
       "output_type": "stream",
       "stream": "stdout",
       "text": [
        "\n"
       ]
      }
     ],
     "prompt_number": 20
    },
    {
     "cell_type": "heading",
     "level": 1,
     "metadata": {},
     "source": [
      "SGD"
     ]
    },
    {
     "cell_type": "heading",
     "level": 1,
     "metadata": {},
     "source": [
      "Incorrect!"
     ]
    },
    {
     "cell_type": "code",
     "collapsed": false,
     "input": [
      "import theano\n",
      "from theano import tensor as T\n",
      "import numpy as np\n",
      "from time import time\n",
      "\n",
      "import cPickle, gzip\n",
      "#!wget http://deeplearning.net/data/mnist/mnist.pkl.gz\n",
      "# Load the dataset\n",
      "train, valid, test = cPickle.load(gzip.open('mnist.pkl.gz','rb'))\n",
      "\n",
      "def add_bias(X):\n",
      "    return np.hstack((np.ones((X.shape[0],1)),X))\n",
      "\n",
      "def one_hot(y):\n",
      "    if y.ndim == 1:\n",
      "        y = y.reshape((-1,1))    \n",
      "    return (y == np.unique(y)).astype(int)\n",
      "\n",
      "X_train = add_bias(train[0])\n",
      "y_train = one_hot(train[1])\n",
      "\n",
      "N,D = X_train.shape\n",
      "K   = len(np.unique(train[1]))\n",
      "print N,D,K      \n",
      "\n",
      "X_test = add_bias(test[0])\n",
      "y_test = one_hot(test[1])\n",
      "\n",
      "#w1 = np.random.uniform(-0.01,0.01,size=(D+1,H))   # init weights\n",
      "\n",
      "def init_weights(shape):\n",
      "    return theano.shared( np.random.uniform(-0.01,0.01,size=shape) )\n",
      "\n",
      "def sgd(loss, params, step=1):\n",
      "    grads = T.grad(loss,params)\n",
      "    updates = []\n",
      "    for param, grad in zip(params, grads):\n",
      "        updates.append([param, param - step*grad])\n",
      "    return updates\n",
      "\n",
      "def model(X, w1, w2):\n",
      "    h = T.nnet.sigmoid(T.dot(X, w1))\n",
      "    yHat = T.nnet.softmax(T.dot(h, w2))\n",
      "    return yHat\n",
      "\n",
      "start_time = time()\n",
      "\n",
      "X = T.fmatrix()\n",
      "Y = T.fmatrix()\n",
      "\n",
      "H = 50\n",
      "batch=128\n",
      "\n",
      "w1 = init_weights((D, H))\n",
      "w2 = init_weights((H, K))\n",
      "\n",
      "yHat     = model(X, w1, w2)\n",
      "yPredict = T.argmax(yHat, axis=1)\n",
      "\n",
      "loss = -T.mean(Y * T.log(yHat)) # should be sum/N\n",
      "#loss = T.mean(T.nnet.categorical_crossentropy(yHat, Y))\n",
      "params = [w1, w2]\n",
      "updates = sgd(loss, params,1)\n",
      "\n",
      "train   = theano.function(inputs=[X, Y], outputs=loss, updates=updates, allow_input_downcast=True)\n",
      "predict = theano.function(inputs=[X], outputs=yPredict, allow_input_downcast=True)\n",
      "\n",
      "MAX_ITERS = 20\n",
      "PRINT_ITERS=1\n",
      "for iters in range(MAX_ITERS):\n",
      "    for start, end in zip(range(0, N, batch), range(batch, N, batch)):\n",
      "        loss = train(X_train[start:end], y_train[start:end])   \n",
      "    if ( (iters%PRINT_ITERS)==0):\n",
      "        print iters,\"Loss: \",loss, \\\n",
      "               \"Train accuracy: \",np.mean(np.argmax(y_train, axis=1) == predict(X_train)), \\\n",
      "               \", Test accuracy: \" ,np.mean(np.argmax(y_test,  axis=1) == predict(X_test))\n",
      "\n",
      "print\n",
      "print \"Final training accuracy: %0.4f\"%mean(predict(X_train)== np.argmax(y_train, axis=1))\n",
      "print \"Final test accuracy    : %0.4f\"%mean(predict(X_test)== np.argmax(y_test, axis=1))\n",
      "print\n",
      "elapsed = time() - start_time\n",
      "print \"%0.2f secs, \" % (elapsed), '{0:.2f}'.format(elapsed/float(iters)), \"secs/epoch\""
     ],
     "language": "python",
     "metadata": {},
     "outputs": [
      {
       "output_type": "stream",
       "stream": "stdout",
       "text": [
        "50000 785 10\n",
        "0"
       ]
      },
      {
       "output_type": "stream",
       "stream": "stdout",
       "text": [
        " Loss:  0.157610312575 Train accuracy:  "
       ]
      },
      {
       "output_type": "stream",
       "stream": "stdout",
       "text": [
        "0.5417 , Test accuracy:  "
       ]
      },
      {
       "output_type": "stream",
       "stream": "stdout",
       "text": [
        "0.5435\n",
        "1"
       ]
      },
      {
       "output_type": "stream",
       "stream": "stdout",
       "text": [
        " Loss:  0.0820615244911 Train accuracy:  "
       ]
      },
      {
       "output_type": "stream",
       "stream": "stdout",
       "text": [
        "0.81284 , Test accuracy:  "
       ]
      },
      {
       "output_type": "stream",
       "stream": "stdout",
       "text": [
        "0.8194\n",
        "2"
       ]
      },
      {
       "output_type": "stream",
       "stream": "stdout",
       "text": [
        " Loss:  0.0614117692567 Train accuracy:  "
       ]
      },
      {
       "output_type": "stream",
       "stream": "stdout",
       "text": [
        "0.86592 , Test accuracy:  "
       ]
      },
      {
       "output_type": "stream",
       "stream": "stdout",
       "text": [
        "0.8724\n",
        "3"
       ]
      },
      {
       "output_type": "stream",
       "stream": "stdout",
       "text": [
        " Loss:  0.052017198095 Train accuracy:  "
       ]
      },
      {
       "output_type": "stream",
       "stream": "stdout",
       "text": [
        "0.88832 , Test accuracy:  "
       ]
      },
      {
       "output_type": "stream",
       "stream": "stdout",
       "text": [
        "0.8946\n",
        "4"
       ]
      },
      {
       "output_type": "stream",
       "stream": "stdout",
       "text": [
        " Loss:  0.0465692321926 Train accuracy:  "
       ]
      },
      {
       "output_type": "stream",
       "stream": "stdout",
       "text": [
        "0.89884 , Test accuracy:  "
       ]
      },
      {
       "output_type": "stream",
       "stream": "stdout",
       "text": [
        "0.9042\n",
        "5"
       ]
      },
      {
       "output_type": "stream",
       "stream": "stdout",
       "text": [
        " Loss:  0.0429705049128 Train accuracy:  "
       ]
      },
      {
       "output_type": "stream",
       "stream": "stdout",
       "text": [
        "0.9059 , Test accuracy:  "
       ]
      },
      {
       "output_type": "stream",
       "stream": "stdout",
       "text": [
        "0.9103\n",
        "6"
       ]
      },
      {
       "output_type": "stream",
       "stream": "stdout",
       "text": [
        " Loss:  0.0403621649137 Train accuracy:  "
       ]
      },
      {
       "output_type": "stream",
       "stream": "stdout",
       "text": [
        "0.91106 , Test accuracy:  "
       ]
      },
      {
       "output_type": "stream",
       "stream": "stdout",
       "text": [
        "0.9148\n",
        "7"
       ]
      },
      {
       "output_type": "stream",
       "stream": "stdout",
       "text": [
        " Loss:  0.0383639055942 Train accuracy:  "
       ]
      },
      {
       "output_type": "stream",
       "stream": "stdout",
       "text": [
        "0.91528 , Test accuracy:  "
       ]
      },
      {
       "output_type": "stream",
       "stream": "stdout",
       "text": [
        "0.9187\n",
        "8"
       ]
      },
      {
       "output_type": "stream",
       "stream": "stdout",
       "text": [
        " Loss:  0.0367772687435 Train accuracy:  "
       ]
      },
      {
       "output_type": "stream",
       "stream": "stdout",
       "text": [
        "0.91902 , Test accuracy:  "
       ]
      },
      {
       "output_type": "stream",
       "stream": "stdout",
       "text": [
        "0.9208\n",
        "9"
       ]
      },
      {
       "output_type": "stream",
       "stream": "stdout",
       "text": [
        " Loss:  0.0354856171159 Train accuracy:  "
       ]
      },
      {
       "output_type": "stream",
       "stream": "stdout",
       "text": [
        "0.92188 , Test accuracy:  "
       ]
      },
      {
       "output_type": "stream",
       "stream": "stdout",
       "text": [
        "0.9238\n",
        "10"
       ]
      },
      {
       "output_type": "stream",
       "stream": "stdout",
       "text": [
        " Loss:  0.0344154256415 Train accuracy:  "
       ]
      },
      {
       "output_type": "stream",
       "stream": "stdout",
       "text": [
        "0.92452 , Test accuracy:  "
       ]
      },
      {
       "output_type": "stream",
       "stream": "stdout",
       "text": [
        "0.9267\n",
        "11"
       ]
      },
      {
       "output_type": "stream",
       "stream": "stdout",
       "text": [
        " Loss:  0.0335163673867 Train accuracy:  "
       ]
      },
      {
       "output_type": "stream",
       "stream": "stdout",
       "text": [
        "0.9271 , Test accuracy:  "
       ]
      },
      {
       "output_type": "stream",
       "stream": "stdout",
       "text": [
        "0.9284\n",
        "12"
       ]
      },
      {
       "output_type": "stream",
       "stream": "stdout",
       "text": [
        " Loss:  0.032750904551 Train accuracy:  "
       ]
      },
      {
       "output_type": "stream",
       "stream": "stdout",
       "text": [
        "0.9294 , Test accuracy:  "
       ]
      },
      {
       "output_type": "stream",
       "stream": "stdout",
       "text": [
        "0.9305\n",
        "13"
       ]
      },
      {
       "output_type": "stream",
       "stream": "stdout",
       "text": [
        " Loss:  0.0320897749709 Train accuracy:  "
       ]
      },
      {
       "output_type": "stream",
       "stream": "stdout",
       "text": [
        "0.93162 , Test accuracy:  "
       ]
      },
      {
       "output_type": "stream",
       "stream": "stdout",
       "text": [
        "0.9321\n",
        "14"
       ]
      },
      {
       "output_type": "stream",
       "stream": "stdout",
       "text": [
        " Loss:  0.0315104320542 Train accuracy:  "
       ]
      },
      {
       "output_type": "stream",
       "stream": "stdout",
       "text": [
        "0.93358 , Test accuracy:  "
       ]
      },
      {
       "output_type": "stream",
       "stream": "stdout",
       "text": [
        "0.9338\n",
        "15"
       ]
      },
      {
       "output_type": "stream",
       "stream": "stdout",
       "text": [
        " Loss:  0.0309961242254 Train accuracy:  "
       ]
      },
      {
       "output_type": "stream",
       "stream": "stdout",
       "text": [
        "0.93492 , Test accuracy:  "
       ]
      },
      {
       "output_type": "stream",
       "stream": "stdout",
       "text": [
        "0.9354\n",
        "16"
       ]
      },
      {
       "output_type": "stream",
       "stream": "stdout",
       "text": [
        " Loss:  0.0305345591662 Train accuracy:  "
       ]
      },
      {
       "output_type": "stream",
       "stream": "stdout",
       "text": [
        "0.93686 , Test accuracy:  "
       ]
      },
      {
       "output_type": "stream",
       "stream": "stdout",
       "text": [
        "0.9367\n",
        "17"
       ]
      },
      {
       "output_type": "stream",
       "stream": "stdout",
       "text": [
        " Loss:  0.0301163583852 Train accuracy:  "
       ]
      },
      {
       "output_type": "stream",
       "stream": "stdout",
       "text": [
        "0.93838 , Test accuracy:  "
       ]
      },
      {
       "output_type": "stream",
       "stream": "stdout",
       "text": [
        "0.9381\n",
        "18"
       ]
      },
      {
       "output_type": "stream",
       "stream": "stdout",
       "text": [
        " Loss:  0.0297338907843 Train accuracy:  "
       ]
      },
      {
       "output_type": "stream",
       "stream": "stdout",
       "text": [
        "0.9398 , Test accuracy:  "
       ]
      },
      {
       "output_type": "stream",
       "stream": "stdout",
       "text": [
        "0.9391\n",
        "19"
       ]
      },
      {
       "output_type": "stream",
       "stream": "stdout",
       "text": [
        " Loss:  0.0293807011314 Train accuracy:  "
       ]
      },
      {
       "output_type": "stream",
       "stream": "stdout",
       "text": [
        "0.94126 , Test accuracy:  "
       ]
      },
      {
       "output_type": "stream",
       "stream": "stdout",
       "text": [
        "0.9405\n",
        "\n",
        "Final training accuracy: 0.9413"
       ]
      },
      {
       "output_type": "stream",
       "stream": "stdout",
       "text": [
        "\n",
        "Final test accuracy    : 0.9405"
       ]
      },
      {
       "output_type": "stream",
       "stream": "stdout",
       "text": [
        "\n",
        "\n",
        "28.85 secs,  1.52 secs/epoch\n"
       ]
      }
     ],
     "prompt_number": 6
    },
    {
     "cell_type": "heading",
     "level": 1,
     "metadata": {},
     "source": [
      "Correct"
     ]
    },
    {
     "cell_type": "code",
     "collapsed": false,
     "input": [
      "import theano\n",
      "from theano import tensor as T\n",
      "import numpy as np\n",
      "from time import time\n",
      "\n",
      "import cPickle, gzip\n",
      "#!wget http://deeplearning.net/data/mnist/mnist.pkl.gz\n",
      "# Load the dataset\n",
      "train, valid, test = cPickle.load(gzip.open('mnist.pkl.gz','rb'))\n",
      "\n",
      "def add_bias(X):\n",
      "    return np.hstack((np.ones((X.shape[0],1)),X))\n",
      "\n",
      "def one_hot(y):\n",
      "    if y.ndim == 1:\n",
      "        y = y.reshape((-1,1))    \n",
      "    return (y == np.unique(y)).astype(int)\n",
      "\n",
      "X_train = add_bias(train[0])\n",
      "y_train = one_hot(train[1])\n",
      "\n",
      "N,D = X_train.shape\n",
      "K   = len(np.unique(train[1]))\n",
      "print N,D,K      \n",
      "\n",
      "X_test = add_bias(test[0])\n",
      "y_test = one_hot(test[1])\n",
      "\n",
      "#w1 = np.random.uniform(-0.01,0.01,size=(D+1,H))   # init weights\n",
      "\n",
      "def init_weights(shape):\n",
      "    return theano.shared( np.random.uniform(-0.01,0.01,size=shape) )\n",
      "\n",
      "def sgd(loss, params, step=1):\n",
      "    grads = T.grad(loss,params)\n",
      "    updates = []\n",
      "    for param, grad in zip(params, grads):\n",
      "        updates.append([param, param - step*grad])\n",
      "    return updates\n",
      "\n",
      "def model(X, w1, w2):\n",
      "    h = T.nnet.sigmoid(T.dot(X, w1))\n",
      "    yHat = T.nnet.softmax(T.dot(h, w2))\n",
      "    return yHat\n",
      "\n",
      "start_time = time()\n",
      "\n",
      "X = T.fmatrix()\n",
      "Y = T.fmatrix()\n",
      "\n",
      "H = 50\n",
      "batch=128\n",
      "\n",
      "w1 = init_weights((D, H))\n",
      "w2 = init_weights((H, K))\n",
      "\n",
      "yHat     = model(X, w1, w2)\n",
      "yPredict = T.argmax(yHat, axis=1)\n",
      "\n",
      "loss = -T.sum(Y * T.log(yHat))/batch # should be sum/N\n",
      "#loss = T.mean(T.nnet.categorical_crossentropy(yHat, Y))\n",
      "params = [w1, w2]\n",
      "updates = sgd(loss, params,1)\n",
      "\n",
      "train   = theano.function(inputs=[X, Y], outputs=loss, updates=updates, allow_input_downcast=True)\n",
      "predict = theano.function(inputs=[X], outputs=yPredict, allow_input_downcast=True)\n",
      "\n",
      "MAX_ITERS = 20\n",
      "PRINT_ITERS=1\n",
      "for iters in range(MAX_ITERS):\n",
      "    for start, end in zip(range(0, N, batch), range(batch, N, batch)):\n",
      "        loss = train(X_train[start:end], y_train[start:end])   \n",
      "    if ( (iters%PRINT_ITERS)==0):\n",
      "        print iters,\"Loss: \",loss, \\\n",
      "               \"Train accuracy: \",np.mean(np.argmax(y_train, axis=1) == predict(X_train)), \\\n",
      "               \", Test accuracy: \" ,np.mean(np.argmax(y_test,  axis=1) == predict(X_test))\n",
      "\n",
      "print\n",
      "print \"Final training accuracy: %0.4f\"%mean(predict(X_train)== np.argmax(y_train, axis=1))\n",
      "print \"Final test accuracy    : %0.4f\"%mean(predict(X_test)== np.argmax(y_test, axis=1))\n",
      "print\n",
      "elapsed = time() - start_time\n",
      "print \"%0.2f secs, \" % (elapsed), '{0:.2f}'.format(elapsed/float(iters)), \"secs/epoch\""
     ],
     "language": "python",
     "metadata": {},
     "outputs": [
      {
       "output_type": "stream",
       "stream": "stdout",
       "text": [
        "50000 785 10\n",
        "0"
       ]
      },
      {
       "output_type": "stream",
       "stream": "stdout",
       "text": [
        " Loss:  0.466654299863 Train accuracy:  "
       ]
      },
      {
       "output_type": "stream",
       "stream": "stdout",
       "text": [
        "0.90884 , Test accuracy:  "
       ]
      },
      {
       "output_type": "stream",
       "stream": "stdout",
       "text": [
        "0.9119\n",
        "1"
       ]
      },
      {
       "output_type": "stream",
       "stream": "stdout",
       "text": [
        " Loss:  0.412166897452 Train accuracy:  "
       ]
      },
      {
       "output_type": "stream",
       "stream": "stdout",
       "text": [
        "0.93194 , Test accuracy:  "
       ]
      },
      {
       "output_type": "stream",
       "stream": "stdout",
       "text": [
        "0.9323\n",
        "2"
       ]
      },
      {
       "output_type": "stream",
       "stream": "stdout",
       "text": [
        " Loss:  0.388909035704 Train accuracy:  "
       ]
      },
      {
       "output_type": "stream",
       "stream": "stdout",
       "text": [
        "0.94428 , Test accuracy:  "
       ]
      },
      {
       "output_type": "stream",
       "stream": "stdout",
       "text": [
        "0.9441\n",
        "3"
       ]
      },
      {
       "output_type": "stream",
       "stream": "stdout",
       "text": [
        " Loss:  0.375363569813 Train accuracy:  "
       ]
      },
      {
       "output_type": "stream",
       "stream": "stdout",
       "text": [
        "0.95232 , Test accuracy:  "
       ]
      },
      {
       "output_type": "stream",
       "stream": "stdout",
       "text": [
        "0.949\n",
        "4"
       ]
      },
      {
       "output_type": "stream",
       "stream": "stdout",
       "text": [
        " Loss:  0.36543905864 Train accuracy:  "
       ]
      },
      {
       "output_type": "stream",
       "stream": "stdout",
       "text": [
        "0.95746 , Test accuracy:  "
       ]
      },
      {
       "output_type": "stream",
       "stream": "stdout",
       "text": [
        "0.9536\n",
        "5"
       ]
      },
      {
       "output_type": "stream",
       "stream": "stdout",
       "text": [
        " Loss:  0.353910976165 Train accuracy:  "
       ]
      },
      {
       "output_type": "stream",
       "stream": "stdout",
       "text": [
        "0.96226 , Test accuracy:  "
       ]
      },
      {
       "output_type": "stream",
       "stream": "stdout",
       "text": [
        "0.9558\n",
        "6"
       ]
      },
      {
       "output_type": "stream",
       "stream": "stdout",
       "text": [
        " Loss:  0.340361462894 Train accuracy:  "
       ]
      },
      {
       "output_type": "stream",
       "stream": "stdout",
       "text": [
        "0.96648 , Test accuracy:  "
       ]
      },
      {
       "output_type": "stream",
       "stream": "stdout",
       "text": [
        "0.9578\n",
        "7"
       ]
      },
      {
       "output_type": "stream",
       "stream": "stdout",
       "text": [
        " Loss:  0.324291356867 Train accuracy:  "
       ]
      },
      {
       "output_type": "stream",
       "stream": "stdout",
       "text": [
        "0.96946 , Test accuracy:  "
       ]
      },
      {
       "output_type": "stream",
       "stream": "stdout",
       "text": [
        "0.9601\n",
        "8"
       ]
      },
      {
       "output_type": "stream",
       "stream": "stdout",
       "text": [
        " Loss:  0.30597264501 Train accuracy:  "
       ]
      },
      {
       "output_type": "stream",
       "stream": "stdout",
       "text": [
        "0.97176 , Test accuracy:  "
       ]
      },
      {
       "output_type": "stream",
       "stream": "stdout",
       "text": [
        "0.9622\n",
        "9"
       ]
      },
      {
       "output_type": "stream",
       "stream": "stdout",
       "text": [
        " Loss:  0.286139264085 Train accuracy:  "
       ]
      },
      {
       "output_type": "stream",
       "stream": "stdout",
       "text": [
        "0.9742 , Test accuracy:  "
       ]
      },
      {
       "output_type": "stream",
       "stream": "stdout",
       "text": [
        "0.9641\n",
        "10"
       ]
      },
      {
       "output_type": "stream",
       "stream": "stdout",
       "text": [
        " Loss:  0.265609930097 Train accuracy:  "
       ]
      },
      {
       "output_type": "stream",
       "stream": "stdout",
       "text": [
        "0.97612 , Test accuracy:  "
       ]
      },
      {
       "output_type": "stream",
       "stream": "stdout",
       "text": [
        "0.9654\n",
        "11"
       ]
      },
      {
       "output_type": "stream",
       "stream": "stdout",
       "text": [
        " Loss:  0.245172364062 Train accuracy:  "
       ]
      },
      {
       "output_type": "stream",
       "stream": "stdout",
       "text": [
        "0.97828 , Test accuracy:  "
       ]
      },
      {
       "output_type": "stream",
       "stream": "stdout",
       "text": [
        "0.9661\n",
        "12"
       ]
      },
      {
       "output_type": "stream",
       "stream": "stdout",
       "text": [
        " Loss:  0.225471972951 Train accuracy:  "
       ]
      },
      {
       "output_type": "stream",
       "stream": "stdout",
       "text": [
        "0.98004 , Test accuracy:  "
       ]
      },
      {
       "output_type": "stream",
       "stream": "stdout",
       "text": [
        "0.9674\n",
        "13"
       ]
      },
      {
       "output_type": "stream",
       "stream": "stdout",
       "text": [
        " Loss:  0.206985119486 Train accuracy:  "
       ]
      },
      {
       "output_type": "stream",
       "stream": "stdout",
       "text": [
        "0.98154 , Test accuracy:  "
       ]
      },
      {
       "output_type": "stream",
       "stream": "stdout",
       "text": [
        "0.9682\n",
        "14"
       ]
      },
      {
       "output_type": "stream",
       "stream": "stdout",
       "text": [
        " Loss:  0.189997276076 Train accuracy:  "
       ]
      },
      {
       "output_type": "stream",
       "stream": "stdout",
       "text": [
        "0.98276 , Test accuracy:  "
       ]
      },
      {
       "output_type": "stream",
       "stream": "stdout",
       "text": [
        "0.9688\n",
        "15"
       ]
      },
      {
       "output_type": "stream",
       "stream": "stdout",
       "text": [
        " Loss:  0.174593823558 Train accuracy:  "
       ]
      },
      {
       "output_type": "stream",
       "stream": "stdout",
       "text": [
        "0.98392 , Test accuracy:  "
       ]
      },
      {
       "output_type": "stream",
       "stream": "stdout",
       "text": [
        "0.9694\n",
        "16"
       ]
      },
      {
       "output_type": "stream",
       "stream": "stdout",
       "text": [
        " Loss:  0.160669666354 Train accuracy:  "
       ]
      },
      {
       "output_type": "stream",
       "stream": "stdout",
       "text": [
        "0.98508 , Test accuracy:  "
       ]
      },
      {
       "output_type": "stream",
       "stream": "stdout",
       "text": [
        "0.9702\n",
        "17"
       ]
      },
      {
       "output_type": "stream",
       "stream": "stdout",
       "text": [
        " Loss:  0.148001217298 Train accuracy:  "
       ]
      },
      {
       "output_type": "stream",
       "stream": "stdout",
       "text": [
        "0.98574 , Test accuracy:  "
       ]
      },
      {
       "output_type": "stream",
       "stream": "stdout",
       "text": [
        "0.9705\n",
        "18"
       ]
      },
      {
       "output_type": "stream",
       "stream": "stdout",
       "text": [
        " Loss:  0.136330010684 Train accuracy:  "
       ]
      },
      {
       "output_type": "stream",
       "stream": "stdout",
       "text": [
        "0.98672 , Test accuracy:  "
       ]
      },
      {
       "output_type": "stream",
       "stream": "stdout",
       "text": [
        "0.9718\n",
        "19"
       ]
      },
      {
       "output_type": "stream",
       "stream": "stdout",
       "text": [
        " Loss:  0.125424967726 Train accuracy:  "
       ]
      },
      {
       "output_type": "stream",
       "stream": "stdout",
       "text": [
        "0.9874 , Test accuracy:  "
       ]
      },
      {
       "output_type": "stream",
       "stream": "stdout",
       "text": [
        "0.9714\n",
        "\n",
        "Final training accuracy: 0.9874"
       ]
      },
      {
       "output_type": "stream",
       "stream": "stdout",
       "text": [
        "\n",
        "Final test accuracy    : 0.9714"
       ]
      },
      {
       "output_type": "stream",
       "stream": "stdout",
       "text": [
        "\n",
        "\n",
        "28.11 secs,  1.48 secs/epoch\n"
       ]
      }
     ],
     "prompt_number": 7
    },
    {
     "cell_type": "code",
     "collapsed": false,
     "input": [
      "import theano\n",
      "from theano import tensor as T\n",
      "import numpy as np\n",
      "from time import time\n",
      "\n",
      "import cPickle, gzip\n",
      "#!wget http://deeplearning.net/data/mnist/mnist.pkl.gz\n",
      "# Load the dataset\n",
      "train, valid, test = cPickle.load(gzip.open('mnist.pkl.gz','rb'))\n",
      "\n",
      "def add_bias(X):\n",
      "    return np.hstack((np.ones((X.shape[0],1)),X))\n",
      "\n",
      "def one_hot(y):\n",
      "    if y.ndim == 1:\n",
      "        y = y.reshape((-1,1))    \n",
      "    return (y == np.unique(y)).astype(int)\n",
      "\n",
      "X_train = add_bias(train[0])\n",
      "y_train = one_hot(train[1])\n",
      "\n",
      "N,D = X_train.shape\n",
      "K   = len(np.unique(train[1]))\n",
      "print N,D,K      \n",
      "\n",
      "X_test = add_bias(test[0])\n",
      "y_test = one_hot(test[1])\n",
      "\n",
      "#w1 = np.random.uniform(-0.01,0.01,size=(D+1,H))   # init weights\n",
      "\n",
      "def init_weights(shape):\n",
      "    return theano.shared( np.random.uniform(-0.01,0.01,size=shape) )\n",
      "\n",
      "def sgd(loss, params, step=1):\n",
      "    grads = T.grad(loss,params)\n",
      "    updates = []\n",
      "    for param, grad in zip(params, grads):\n",
      "        updates.append([param, param - step*grad])\n",
      "    return updates\n",
      "\n",
      "def model(X, w1, w2):\n",
      "    h = T.nnet.sigmoid(T.dot(X, w1))\n",
      "    yHat = T.nnet.softmax(T.dot(h, w2))\n",
      "    return yHat\n",
      "\n",
      "start_time = time()\n",
      "\n",
      "X = T.fmatrix()\n",
      "Y = T.fmatrix()\n",
      "\n",
      "H = 50\n",
      "\n",
      "w1 = init_weights((D, H))\n",
      "w2 = init_weights((H, K))\n",
      "\n",
      "yHat     = model(X, w1, w2)\n",
      "yPredict = T.argmax(yHat, axis=1)\n",
      "\n",
      "#loss = -T.mean(Y * T.log(yHat)) \n",
      "loss = T.mean(T.nnet.categorical_crossentropy(yHat, Y))\n",
      "params = [w1, w2]\n",
      "updates = sgd(loss, params,1)\n",
      "\n",
      "train   = theano.function(inputs=[X, Y], outputs=loss, updates=updates, allow_input_downcast=True)\n",
      "predict = theano.function(inputs=[X], outputs=yPredict, allow_input_downcast=True)\n",
      "\n",
      "MAX_ITERS = 20\n",
      "PRINT_ITERS=1\n",
      "batch=128\n",
      "for iters in range(MAX_ITERS):\n",
      "    for start, end in zip(range(0, N, batch), range(batch, N, batch)):\n",
      "        loss = train(X_train[start:end], y_train[start:end])   \n",
      "    if ( (iters%PRINT_ITERS)==0):\n",
      "        print iters,\"Loss: \",loss, \\\n",
      "               \"Train accuracy: \",np.mean(np.argmax(y_train, axis=1) == predict(X_train)), \\\n",
      "               \", Test accuracy: \" ,np.mean(np.argmax(y_test,  axis=1) == predict(X_test))\n",
      "\n",
      "print\n",
      "print \"Final training accuracy: %0.4f\"%mean(predict(X_train)== np.argmax(y_train, axis=1))\n",
      "print \"Final test accuracy    : %0.4f\"%mean(predict(X_test)== np.argmax(y_test, axis=1))\n",
      "print\n",
      "elapsed = time() - start_time\n",
      "print \"%0.2f secs, \" % (elapsed), '{0:.2f}'.format(elapsed/float(iters)), \"secs/epoch\""
     ],
     "language": "python",
     "metadata": {},
     "outputs": [
      {
       "output_type": "stream",
       "stream": "stdout",
       "text": [
        "50000 785 10\n",
        "0"
       ]
      },
      {
       "output_type": "stream",
       "stream": "stdout",
       "text": [
        " Loss:  0.426041862956 Train accuracy:  "
       ]
      },
      {
       "output_type": "stream",
       "stream": "stdout",
       "text": [
        "0.9098 , Test accuracy:  "
       ]
      },
      {
       "output_type": "stream",
       "stream": "stdout",
       "text": [
        "0.9122\n",
        "1"
       ]
      },
      {
       "output_type": "stream",
       "stream": "stdout",
       "text": [
        " Loss:  0.372283154497 Train accuracy:  "
       ]
      },
      {
       "output_type": "stream",
       "stream": "stdout",
       "text": [
        "0.93458 , Test accuracy:  "
       ]
      },
      {
       "output_type": "stream",
       "stream": "stdout",
       "text": [
        "0.9346\n",
        "2"
       ]
      },
      {
       "output_type": "stream",
       "stream": "stdout",
       "text": [
        " Loss:  0.351506675437 Train accuracy:  "
       ]
      },
      {
       "output_type": "stream",
       "stream": "stdout",
       "text": [
        "0.9479 , Test accuracy:  "
       ]
      },
      {
       "output_type": "stream",
       "stream": "stdout",
       "text": [
        "0.9455\n",
        "3"
       ]
      },
      {
       "output_type": "stream",
       "stream": "stdout",
       "text": [
        " Loss:  0.335906788769 Train accuracy:  "
       ]
      },
      {
       "output_type": "stream",
       "stream": "stdout",
       "text": [
        "0.9557 , Test accuracy:  "
       ]
      },
      {
       "output_type": "stream",
       "stream": "stdout",
       "text": [
        "0.9535\n",
        "4"
       ]
      },
      {
       "output_type": "stream",
       "stream": "stdout",
       "text": [
        " Loss:  0.321278645467 Train accuracy:  "
       ]
      },
      {
       "output_type": "stream",
       "stream": "stdout",
       "text": [
        "0.96126 , Test accuracy:  "
       ]
      },
      {
       "output_type": "stream",
       "stream": "stdout",
       "text": [
        "0.958\n",
        "5"
       ]
      },
      {
       "output_type": "stream",
       "stream": "stdout",
       "text": [
        " Loss:  0.306602351751 Train accuracy:  "
       ]
      },
      {
       "output_type": "stream",
       "stream": "stdout",
       "text": [
        "0.96582 , Test accuracy:  "
       ]
      },
      {
       "output_type": "stream",
       "stream": "stdout",
       "text": [
        "0.961\n",
        "6"
       ]
      },
      {
       "output_type": "stream",
       "stream": "stdout",
       "text": [
        " Loss:  0.290144203717 Train accuracy:  "
       ]
      },
      {
       "output_type": "stream",
       "stream": "stdout",
       "text": [
        "0.96936 , Test accuracy:  "
       ]
      },
      {
       "output_type": "stream",
       "stream": "stdout",
       "text": [
        "0.9635\n",
        "7"
       ]
      },
      {
       "output_type": "stream",
       "stream": "stdout",
       "text": [
        " Loss:  0.271520710587 Train accuracy:  "
       ]
      },
      {
       "output_type": "stream",
       "stream": "stdout",
       "text": [
        "0.97232 , Test accuracy:  "
       ]
      },
      {
       "output_type": "stream",
       "stream": "stdout",
       "text": [
        "0.9648\n",
        "8"
       ]
      },
      {
       "output_type": "stream",
       "stream": "stdout",
       "text": [
        " Loss:  0.251689122979 Train accuracy:  "
       ]
      },
      {
       "output_type": "stream",
       "stream": "stdout",
       "text": [
        "0.9748 , Test accuracy:  "
       ]
      },
      {
       "output_type": "stream",
       "stream": "stdout",
       "text": [
        "0.9661\n",
        "9"
       ]
      },
      {
       "output_type": "stream",
       "stream": "stdout",
       "text": [
        " Loss:  0.2324690631 Train accuracy:  "
       ]
      },
      {
       "output_type": "stream",
       "stream": "stdout",
       "text": [
        "0.97698 , Test accuracy:  "
       ]
      },
      {
       "output_type": "stream",
       "stream": "stdout",
       "text": [
        "0.9676\n",
        "10"
       ]
      },
      {
       "output_type": "stream",
       "stream": "stdout",
       "text": [
        " Loss:  0.21543857914 Train accuracy:  "
       ]
      },
      {
       "output_type": "stream",
       "stream": "stdout",
       "text": [
        "0.97914 , Test accuracy:  "
       ]
      },
      {
       "output_type": "stream",
       "stream": "stdout",
       "text": [
        "0.9687\n",
        "11"
       ]
      },
      {
       "output_type": "stream",
       "stream": "stdout",
       "text": [
        " Loss:  0.200635489653 Train accuracy:  "
       ]
      },
      {
       "output_type": "stream",
       "stream": "stdout",
       "text": [
        "0.98032 , Test accuracy:  "
       ]
      },
      {
       "output_type": "stream",
       "stream": "stdout",
       "text": [
        "0.9692\n",
        "12"
       ]
      },
      {
       "output_type": "stream",
       "stream": "stdout",
       "text": [
        " Loss:  0.187157842894 Train accuracy:  "
       ]
      },
      {
       "output_type": "stream",
       "stream": "stdout",
       "text": [
        "0.98132 , Test accuracy:  "
       ]
      },
      {
       "output_type": "stream",
       "stream": "stdout",
       "text": [
        "0.9695\n",
        "13"
       ]
      },
      {
       "output_type": "stream",
       "stream": "stdout",
       "text": [
        " Loss:  0.174295413712 Train accuracy:  "
       ]
      },
      {
       "output_type": "stream",
       "stream": "stdout",
       "text": [
        "0.98266 , Test accuracy:  "
       ]
      },
      {
       "output_type": "stream",
       "stream": "stdout",
       "text": [
        "0.97\n",
        "14"
       ]
      },
      {
       "output_type": "stream",
       "stream": "stdout",
       "text": [
        " Loss:  0.161783840538 Train accuracy:  "
       ]
      },
      {
       "output_type": "stream",
       "stream": "stdout",
       "text": [
        "0.9837 , Test accuracy:  "
       ]
      },
      {
       "output_type": "stream",
       "stream": "stdout",
       "text": [
        "0.9706\n",
        "15"
       ]
      },
      {
       "output_type": "stream",
       "stream": "stdout",
       "text": [
        " Loss:  0.149634473392 Train accuracy:  "
       ]
      },
      {
       "output_type": "stream",
       "stream": "stdout",
       "text": [
        "0.9846 , Test accuracy:  "
       ]
      },
      {
       "output_type": "stream",
       "stream": "stdout",
       "text": [
        "0.9707\n",
        "16"
       ]
      },
      {
       "output_type": "stream",
       "stream": "stdout",
       "text": [
        " Loss:  0.137968690146 Train accuracy:  "
       ]
      },
      {
       "output_type": "stream",
       "stream": "stdout",
       "text": [
        "0.98548 , Test accuracy:  "
       ]
      },
      {
       "output_type": "stream",
       "stream": "stdout",
       "text": [
        "0.9705\n",
        "17"
       ]
      },
      {
       "output_type": "stream",
       "stream": "stdout",
       "text": [
        " Loss:  0.126925780884 Train accuracy:  "
       ]
      },
      {
       "output_type": "stream",
       "stream": "stdout",
       "text": [
        "0.98636 , Test accuracy:  "
       ]
      },
      {
       "output_type": "stream",
       "stream": "stdout",
       "text": [
        "0.9707\n",
        "18"
       ]
      },
      {
       "output_type": "stream",
       "stream": "stdout",
       "text": [
        " Loss:  0.116612628207 Train accuracy:  "
       ]
      },
      {
       "output_type": "stream",
       "stream": "stdout",
       "text": [
        "0.98728 , Test accuracy:  "
       ]
      },
      {
       "output_type": "stream",
       "stream": "stdout",
       "text": [
        "0.9704\n",
        "19"
       ]
      },
      {
       "output_type": "stream",
       "stream": "stdout",
       "text": [
        " Loss:  0.107076057145 Train accuracy:  "
       ]
      },
      {
       "output_type": "stream",
       "stream": "stdout",
       "text": [
        "0.98788 , Test accuracy:  "
       ]
      },
      {
       "output_type": "stream",
       "stream": "stdout",
       "text": [
        "0.9706\n",
        "\n",
        "Final training accuracy: 0.9879"
       ]
      },
      {
       "output_type": "stream",
       "stream": "stdout",
       "text": [
        "\n",
        "Final test accuracy    : 0.9706"
       ]
      },
      {
       "output_type": "stream",
       "stream": "stdout",
       "text": [
        "\n",
        "\n",
        "26.74 secs,  1.41 secs/epoch\n"
       ]
      }
     ],
     "prompt_number": 2
    },
    {
     "cell_type": "code",
     "collapsed": false,
     "input": [],
     "language": "python",
     "metadata": {},
     "outputs": []
    }
   ],
   "metadata": {}
  }
 ]
}